{
 "cells": [
  {
   "cell_type": "code",
   "execution_count": 20,
   "id": "d2ecef64-5159-41c5-8a66-ae48981588bc",
   "metadata": {},
   "outputs": [
    {
     "data": {
      "text/plain": [
       "'A Python library is a collection of pre-written code and functions that you can use to perform specific tasks without having to write that code yourself from scratch.\\nThese libraries are designed to be reusable and often provide solutions to common problems or tasks in a particular domain.\\n\\nWe use Python libraries for several reasons:\\n\\nEfficiency\\nFunctionality\\nSpecialization\\nCommunity Support\\nCompatibility'"
      ]
     },
     "execution_count": 20,
     "metadata": {},
     "output_type": "execute_result"
    }
   ],
   "source": [
    "# 1. What is a Python library? Why do we use Python libraries?\n",
    "\n",
    "'''A Python library is a collection of pre-written code and functions that you can use to perform specific tasks without having to write that code yourself from scratch.\n",
    "These libraries are designed to be reusable and often provide solutions to common problems or tasks in a particular domain.\n",
    "\n",
    "We use Python libraries for several reasons:\n",
    "\n",
    "Efficiency\n",
    "Functionality\n",
    "Specialization\n",
    "Community Support\n",
    "Compatibility'''"
   ]
  },
  {
   "cell_type": "code",
   "execution_count": 21,
   "id": "425380e2-6b69-4203-ab11-3ce4fafee7df",
   "metadata": {},
   "outputs": [
    {
     "data": {
      "text/plain": [
       "'NumPy arrays are more suitable for numerical computations and large datasets due to their memory efficiency and optimized performance, \\nwhile Python lists offer more flexibility for general-purpose data storage and manipulation with heterogeneous data types.'"
      ]
     },
     "execution_count": 21,
     "metadata": {},
     "output_type": "execute_result"
    }
   ],
   "source": [
    "# What is the ^ifference between Numpy array an^ List?\n",
    "\n",
    "'''NumPy arrays are more suitable for numerical computations and large datasets due to their memory efficiency and optimized performance, \n",
    "while Python lists offer more flexibility for general-purpose data storage and manipulation with heterogeneous data types.'''"
   ]
  },
  {
   "cell_type": "code",
   "execution_count": 22,
   "id": "6ea7b270-1aab-4b49-afd8-bde5633194ca",
   "metadata": {},
   "outputs": [
    {
     "name": "stdout",
     "output_type": "stream",
     "text": [
      "shape :  (3, 4)\n",
      "size :  12\n",
      "diamesion : 2\n"
     ]
    }
   ],
   "source": [
    "# 3. Find the shape, size and dimension of the following array?\n",
    "# [[1, 2, 3, 4]\n",
    "# [5, 6, 7, 8],\n",
    "# [9, 10, 11, 12]]\n",
    "\n",
    "import numpy as np\n",
    "var = np.array([[1, 2, 3, 4],\n",
    "                [5, 6, 7, 8],\n",
    "                [9, 10, 11, 12]])\n",
    "\n",
    "print(\"shape : \",var.shape)\n",
    "print(\"size : \",var.size)\n",
    "print(\"diamesion :\",var.ndim)"
   ]
  },
  {
   "cell_type": "code",
   "execution_count": 23,
   "id": "109ad170-97a6-44bf-9a0d-c393d8010f1d",
   "metadata": {},
   "outputs": [
    {
     "name": "stdout",
     "output_type": "stream",
     "text": [
      "first_row :  [1 2 3 4]\n"
     ]
    }
   ],
   "source": [
    "# 4. Write python co^e to access the first row of the following array?\n",
    "\n",
    "var_1 = np.array([[1, 2, 3, 4],\n",
    "                [5, 6, 7, 8],\n",
    "                [9, 10, 11, 12]])\n",
    "\n",
    "first_row = var_1[0]\n",
    "print(\"first_row : \",first_row)"
   ]
  },
  {
   "cell_type": "code",
   "execution_count": 24,
   "id": "ffefcb79-dbf9-4e08-a1ab-9180e5951199",
   "metadata": {},
   "outputs": [
    {
     "name": "stdout",
     "output_type": "stream",
     "text": [
      "Element at the third row and fourth column: 12\n"
     ]
    }
   ],
   "source": [
    "# 5. How ^o you access the element at the thir^ row an^ fourth column from the given numpy array?\n",
    "\n",
    "var_2 = np.array([[1, 2, 3, 4],\n",
    "                [5, 6, 7, 8],\n",
    "                [9, 10, 11, 12]])\n",
    "\n",
    "element = var_2[2,3]\n",
    "print(\"Element at the third row and fourth column:\", element)"
   ]
  },
  {
   "cell_type": "code",
   "execution_count": 25,
   "id": "41d3a4db-e923-4e8a-9ad2-602bfaa8d0c9",
   "metadata": {},
   "outputs": [
    {
     "name": "stdout",
     "output_type": "stream",
     "text": [
      "[[0.02804532 0.39702393 0.72172874]\n",
      " [0.55083895 0.96779825 0.02159358]\n",
      " [0.64306595 0.39061877 0.47783617]]\n"
     ]
    }
   ],
   "source": [
    "# 7. How can you generate a ran^om 3x3 matrix with values between 0 an^ 1?\n",
    "\n",
    "random_matix = np.random.rand(3,3)\n",
    "\n",
    "print(random_matix)"
   ]
  },
  {
   "cell_type": "raw",
   "id": "45854d03-782f-4dba-a763-1f7a8433b338",
   "metadata": {},
   "source": [
    "# 8. Describe the ^ifference between np.ran^om.ran^ an^ np.ran^om.ran^n?\n",
    "\n",
    "np.random.rand the function is used to generate a random value between zero to one\n",
    "np.random.randn used to generate the random value close to zero. this may return positive or negative value"
   ]
  },
  {
   "cell_type": "code",
   "execution_count": 26,
   "id": "22d21e85-147e-46f5-a375-7fec71e8d057",
   "metadata": {},
   "outputs": [
    {
     "name": "stdout",
     "output_type": "stream",
     "text": [
      "[[[ 1  2  3  4]\n",
      "  [ 5  6  7  8]\n",
      "  [ 9 10 11 12]]]\n",
      "shape: (1, 3, 4)\n"
     ]
    }
   ],
   "source": [
    "# 9. Write co^e to increase the ^imension of the following array?\n",
    "# [[1, 2, 3, 4]\n",
    "# [5, 6, 7, 8],\n",
    "# # [9, 10, 11, 12]]\n",
    "\n",
    "array = np.array([[1, 2, 3, 4],\n",
    "                  [5, 6, 7, 8],\n",
    "                  [9, 10, 11, 12]])\n",
    "\n",
    "new_array = np.expand_dims(array, axis=0)\n",
    "\n",
    "print(new_array)\n",
    "print(\"shape:\", new_array.shape)\n"
   ]
  },
  {
   "cell_type": "code",
   "execution_count": 31,
   "id": "de7f5b16-42f4-4beb-9a44-0016232353a4",
   "metadata": {},
   "outputs": [
    {
     "name": "stdout",
     "output_type": "stream",
     "text": [
      "Original array:\n",
      "[[ 1  2  3  4]\n",
      " [ 5  6  7  8]\n",
      " [ 9 10 11 12]]\n",
      "\n",
      "Transposed array:\n",
      "[[ 1  5  9]\n",
      " [ 2  6 10]\n",
      " [ 3  7 11]\n",
      " [ 4  8 12]]\n"
     ]
    }
   ],
   "source": [
    "# 10. How to transpose the following array in NumPy?\n",
    "# [[1, 2, 3, 4]\n",
    "# [5, 6, 7, 8],\n",
    "# [9, 10, 11, 12]]\n",
    "\n",
    "array = np.array([[1, 2, 3, 4],\n",
    "                  [5, 6, 7, 8],\n",
    "                  [9, 10, 11, 12]])\n",
    "\n",
    "transposed_array = np.transpose(array)\n",
    "\n",
    "print(\"Original array:\")\n",
    "print(array)\n",
    "print()\n",
    "print(\"Transposed array:\")\n",
    "print(transposed_array)\n"
   ]
  },
  {
   "cell_type": "code",
   "execution_count": 38,
   "id": "77992eac-6ed6-4254-bf54-e1e63de93b5d",
   "metadata": {},
   "outputs": [
    {
     "name": "stdout",
     "output_type": "stream",
     "text": [
      "index wise mult\n",
      " [[  1   4   9  16]\n",
      " [ 25  36  49  64]\n",
      " [ 81 100 121 144]]\n",
      "matrix mult\n",
      " [[ 30  70 110]\n",
      " [ 70 174 278]\n",
      " [110 278 446]]\n",
      "addition of matrices\n",
      " [[ 2  4  6  8]\n",
      " [10 12 14 16]\n",
      " [18 20 22 24]]\n",
      "subtraction of B from A\n",
      " [[0 0 0 0]\n",
      " [0 0 0 0]\n",
      " [0 0 0 0]]\n",
      "Division of matrix B by A:\n",
      " [[1. 1. 1. 1.]\n",
      " [1. 1. 1. 1.]\n",
      " [1. 1. 1. 1.]]\n"
     ]
    }
   ],
   "source": [
    "# 11\n",
    "A = np.array([[1, 2, 3, 4],\n",
    "              [5, 6, 7, 8],\n",
    "              [9, 10, 11, 12]])\n",
    "\n",
    "B = np.array([[1, 2, 3, 4],\n",
    "              [5, 6, 7, 8],\n",
    "              [9, 10, 11, 12]])\n",
    "\n",
    "# Index wise multiplication\n",
    "\n",
    "Index_wise_mult = A*B\n",
    "print(\"index wise mult\\n\",Index_wise_mult)\n",
    "\n",
    "#  Matrix multiplication\n",
    "matrix_mult = np.dot(A, B.T)\n",
    "print(\"matrix mult\\n\",matrix_mult)\n",
    "\n",
    "# add both matrices\n",
    "add = A+B\n",
    "print(\"addition of matrices\\n\",add)\n",
    "\n",
    "# subtract matrix b from a\n",
    "\n",
    "sub = B-A\n",
    "print(\"subtraction of B from A\\n\",sub)\n",
    "\n",
    "# divide matrix b by a\n",
    "division = np.where(A != 0, B / A, 0)\n",
    "print(\"Division of matrix B by A:\\n\", division)"
   ]
  },
  {
   "cell_type": "raw",
   "id": "1a141ca3-cb71-4853-8963-788052f9b1b5",
   "metadata": {},
   "source": [
    "# 12. Which function in Numpy can be use^ to swap the byte or^er of an array?\n",
    "\n",
    "byteswap() is used to swap the byte order of an array?"
   ]
  },
  {
   "cell_type": "raw",
   "id": "0d93f4b4-42bf-4c71-93e6-74ea32894bcd",
   "metadata": {},
   "source": [
    "# 13. What is the significance of the np.linalg.inv function?\n",
    "np.linalg.inv function is used to compute the inverse matrix in Pytho"
   ]
  },
  {
   "cell_type": "raw",
   "id": "eba658a2-19a7-4c24-ad9e-99b38f9c0e42",
   "metadata": {},
   "source": [
    "# 14. What ^oes the np.reshape function ^o, an^ how is it use^?\n",
    "\n",
    "\n",
    "The np.reshape function in NumPy is used to change the shape of an array while maintaining the same data. It does not change the original array, but rather returns a new view of the data with the specified shape."
   ]
  },
  {
   "cell_type": "raw",
   "id": "f57cbff3-fc7b-41b2-b8a6-b18c6d848f1f",
   "metadata": {},
   "source": [
    "# What is broadcasting in numpy?\n",
    "\n",
    "The term broadcasting describes how NumPy treats arrays with different shapes during arithmetic operations"
   ]
  }
 ],
 "metadata": {
  "kernelspec": {
   "display_name": "Python 3 (ipykernel)",
   "language": "python",
   "name": "python3"
  },
  "language_info": {
   "codemirror_mode": {
    "name": "ipython",
    "version": 3
   },
   "file_extension": ".py",
   "mimetype": "text/x-python",
   "name": "python",
   "nbconvert_exporter": "python",
   "pygments_lexer": "ipython3",
   "version": "3.10.8"
  }
 },
 "nbformat": 4,
 "nbformat_minor": 5
}
